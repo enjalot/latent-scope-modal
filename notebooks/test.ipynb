{
 "cells": [
  {
   "cell_type": "code",
   "execution_count": 1,
   "metadata": {},
   "outputs": [
    {
     "name": "stderr",
     "output_type": "stream",
     "text": [
      "/Users/enjalot/code/latent-scope-modal/venv/lib/python3.13/site-packages/tqdm/auto.py:21: TqdmWarning: IProgress not found. Please update jupyter and ipywidgets. See https://ipywidgets.readthedocs.io/en/stable/user_install.html\n",
      "  from .autonotebook import tqdm as notebook_tqdm\n"
     ]
    }
   ],
   "source": [
    "import lancedb\n"
   ]
  },
  {
   "cell_type": "code",
   "execution_count": 5,
   "metadata": {},
   "outputs": [
    {
     "name": "stdout",
     "output_type": "stream",
     "text": [
      "index: int64\n",
      "text: string\n",
      "NameLastFirstM: string\n",
      "StateAbbrev: string\n",
      "Chamberul: string\n",
      "District: string\n",
      "PartyAbbrev: string\n",
      "Gender: string\n",
      "RaceCoded: string\n",
      "HighestDegree: string\n",
      "JobTitle: string\n",
      "JobOrgName: string\n",
      "JobOrgDescr: string\n",
      "WRKCL: int64\n",
      "UNION: int64\n",
      "SAFTY: int64\n",
      "K12: int64\n",
      "BUSNS: int64\n",
      "FARM: int64\n",
      "GOVT: int64\n",
      "INSUR: int64\n",
      "RLEST: int64\n",
      "BANKS: int64\n",
      "HGHED: int64\n",
      "LAWJD: int64\n",
      "DCTR: int64\n",
      "FOSFU: int64\n",
      "GREEN: int64\n",
      "ELECT: int64\n",
      "vacant: int64\n",
      "YearBorn: double\n",
      "idno: double\n",
      "x: float\n",
      "y: float\n",
      "tile_index_32: int64\n",
      "tile_index_64: int64\n",
      "tile_index_128: int64\n",
      "cluster: int64\n",
      "raw_cluster: int64\n",
      "label: string\n",
      "deleted: bool\n",
      "vector: fixed_size_list<item: float>[768]\n",
      "  child 0, item: float\n",
      "sae_indices: list<item: int64>\n",
      "  child 0, item: int64\n",
      "sae_acts: list<item: double>\n",
      "  child 0, item: double\n"
     ]
    },
    {
     "ename": "RuntimeError",
     "evalue": "lance error: LanceError(Schema): Column name does not exist, /Users/runner/.cargo/registry/src/index.crates.io-6f17d22bba15001f/lance-core-0.22.0/src/datatypes/schema.rs:191:31",
     "output_type": "error",
     "traceback": [
      "\u001b[0;31m---------------------------------------------------------------------------\u001b[0m",
      "\u001b[0;31mRuntimeError\u001b[0m                              Traceback (most recent call last)",
      "Cell \u001b[0;32mIn[5], line 5\u001b[0m\n\u001b[1;32m      3\u001b[0m \u001b[38;5;28mprint\u001b[39m(table\u001b[38;5;241m.\u001b[39mschema)\n\u001b[1;32m      4\u001b[0m column_name \u001b[38;5;241m=\u001b[39m \u001b[38;5;124mf\u001b[39m\u001b[38;5;124m'\u001b[39m\u001b[38;5;124m\"\u001b[39m\u001b[38;5;124mGender\u001b[39m\u001b[38;5;124m\"\u001b[39m\u001b[38;5;124m'\u001b[39m\n\u001b[0;32m----> 5\u001b[0m \u001b[43mtable\u001b[49m\u001b[38;5;241;43m.\u001b[39;49m\u001b[43msearch\u001b[49m\u001b[43m(\u001b[49m\u001b[43m)\u001b[49m\u001b[38;5;241;43m.\u001b[39;49m\u001b[43mwhere\u001b[49m\u001b[43m(\u001b[49m\u001b[38;5;124;43mf\u001b[39;49m\u001b[38;5;124;43m\"\u001b[39;49m\u001b[38;5;132;43;01m{\u001b[39;49;00m\u001b[43mcolumn_name\u001b[49m\u001b[38;5;132;43;01m}\u001b[39;49;00m\u001b[38;5;124;43m = \u001b[39;49m\u001b[38;5;124;43m'\u001b[39;49m\u001b[38;5;124;43mF\u001b[39;49m\u001b[38;5;124;43m'\u001b[39;49m\u001b[38;5;124;43m\"\u001b[39;49m\u001b[43m)\u001b[49m\u001b[38;5;241;43m.\u001b[39;49m\u001b[43mselect\u001b[49m\u001b[43m(\u001b[49m\u001b[43m[\u001b[49m\u001b[38;5;124;43m\"\u001b[39;49m\u001b[38;5;124;43mname\u001b[39;49m\u001b[38;5;124;43m\"\u001b[39;49m\u001b[43m]\u001b[49m\u001b[43m)\u001b[49m\u001b[38;5;241;43m.\u001b[39;49m\u001b[43mto_list\u001b[49m\u001b[43m(\u001b[49m\u001b[43m)\u001b[49m\n",
      "File \u001b[0;32m~/code/latent-scope-modal/venv/lib/python3.13/site-packages/lancedb/query.py:327\u001b[0m, in \u001b[0;36mLanceQueryBuilder.to_list\u001b[0;34m(self)\u001b[0m\n\u001b[1;32m    319\u001b[0m \u001b[38;5;28;01mdef\u001b[39;00m\u001b[38;5;250m \u001b[39m\u001b[38;5;21mto_list\u001b[39m(\u001b[38;5;28mself\u001b[39m) \u001b[38;5;241m-\u001b[39m\u001b[38;5;241m>\u001b[39m List[\u001b[38;5;28mdict\u001b[39m]:\n\u001b[1;32m    320\u001b[0m \u001b[38;5;250m    \u001b[39m\u001b[38;5;124;03m\"\"\"\u001b[39;00m\n\u001b[1;32m    321\u001b[0m \u001b[38;5;124;03m    Execute the query and return the results as a list of dictionaries.\u001b[39;00m\n\u001b[1;32m    322\u001b[0m \n\u001b[0;32m   (...)\u001b[0m\n\u001b[1;32m    325\u001b[0m \u001b[38;5;124;03m    fields are returned whether or not they're explicitly selected.\u001b[39;00m\n\u001b[1;32m    326\u001b[0m \u001b[38;5;124;03m    \"\"\"\u001b[39;00m\n\u001b[0;32m--> 327\u001b[0m     \u001b[38;5;28;01mreturn\u001b[39;00m \u001b[38;5;28;43mself\u001b[39;49m\u001b[38;5;241;43m.\u001b[39;49m\u001b[43mto_arrow\u001b[49m\u001b[43m(\u001b[49m\u001b[43m)\u001b[49m\u001b[38;5;241m.\u001b[39mto_pylist()\n",
      "File \u001b[0;32m~/code/latent-scope-modal/venv/lib/python3.13/site-packages/lancedb/query.py:1017\u001b[0m, in \u001b[0;36mLanceEmptyQueryBuilder.to_arrow\u001b[0;34m(self)\u001b[0m\n\u001b[1;32m   1016\u001b[0m \u001b[38;5;28;01mdef\u001b[39;00m\u001b[38;5;250m \u001b[39m\u001b[38;5;21mto_arrow\u001b[39m(\u001b[38;5;28mself\u001b[39m) \u001b[38;5;241m-\u001b[39m\u001b[38;5;241m>\u001b[39m pa\u001b[38;5;241m.\u001b[39mTable:\n\u001b[0;32m-> 1017\u001b[0m     \u001b[38;5;28;01mreturn\u001b[39;00m \u001b[38;5;28;43mself\u001b[39;49m\u001b[38;5;241;43m.\u001b[39;49m\u001b[43mto_batches\u001b[49m\u001b[43m(\u001b[49m\u001b[43m)\u001b[49m\u001b[38;5;241m.\u001b[39mread_all()\n",
      "File \u001b[0;32m~/code/latent-scope-modal/venv/lib/python3.13/site-packages/lancedb/query.py:1029\u001b[0m, in \u001b[0;36mLanceEmptyQueryBuilder.to_batches\u001b[0;34m(self, batch_size)\u001b[0m\n\u001b[1;32m   1019\u001b[0m \u001b[38;5;28;01mdef\u001b[39;00m\u001b[38;5;250m \u001b[39m\u001b[38;5;21mto_batches\u001b[39m(\u001b[38;5;28mself\u001b[39m, \u001b[38;5;241m/\u001b[39m, batch_size: Optional[\u001b[38;5;28mint\u001b[39m] \u001b[38;5;241m=\u001b[39m \u001b[38;5;28;01mNone\u001b[39;00m) \u001b[38;5;241m-\u001b[39m\u001b[38;5;241m>\u001b[39m pa\u001b[38;5;241m.\u001b[39mRecordBatchReader:\n\u001b[1;32m   1020\u001b[0m     query \u001b[38;5;241m=\u001b[39m Query(\n\u001b[1;32m   1021\u001b[0m         columns\u001b[38;5;241m=\u001b[39m\u001b[38;5;28mself\u001b[39m\u001b[38;5;241m.\u001b[39m_columns,\n\u001b[1;32m   1022\u001b[0m         \u001b[38;5;28mfilter\u001b[39m\u001b[38;5;241m=\u001b[39m\u001b[38;5;28mself\u001b[39m\u001b[38;5;241m.\u001b[39m_where,\n\u001b[0;32m   (...)\u001b[0m\n\u001b[1;32m   1027\u001b[0m         offset\u001b[38;5;241m=\u001b[39m\u001b[38;5;28mself\u001b[39m\u001b[38;5;241m.\u001b[39m_offset \u001b[38;5;129;01mor\u001b[39;00m \u001b[38;5;241m0\u001b[39m,\n\u001b[1;32m   1028\u001b[0m     )\n\u001b[0;32m-> 1029\u001b[0m     \u001b[38;5;28;01mreturn\u001b[39;00m \u001b[38;5;28;43mself\u001b[39;49m\u001b[38;5;241;43m.\u001b[39;49m\u001b[43m_table\u001b[49m\u001b[38;5;241;43m.\u001b[39;49m\u001b[43m_execute_query\u001b[49m\u001b[43m(\u001b[49m\u001b[43mquery\u001b[49m\u001b[43m)\u001b[49m\n",
      "File \u001b[0;32m~/code/latent-scope-modal/venv/lib/python3.13/site-packages/lancedb/table.py:2138\u001b[0m, in \u001b[0;36mLanceTable._execute_query\u001b[0;34m(self, query, batch_size)\u001b[0m\n\u001b[1;32m   2135\u001b[0m \u001b[38;5;28;01mdef\u001b[39;00m\u001b[38;5;250m \u001b[39m\u001b[38;5;21m_execute_query\u001b[39m(\n\u001b[1;32m   2136\u001b[0m     \u001b[38;5;28mself\u001b[39m, query: Query, batch_size: Optional[\u001b[38;5;28mint\u001b[39m] \u001b[38;5;241m=\u001b[39m \u001b[38;5;28;01mNone\u001b[39;00m\n\u001b[1;32m   2137\u001b[0m ) \u001b[38;5;241m-\u001b[39m\u001b[38;5;241m>\u001b[39m pa\u001b[38;5;241m.\u001b[39mRecordBatchReader:\n\u001b[0;32m-> 2138\u001b[0m     \u001b[38;5;28;01mreturn\u001b[39;00m \u001b[43mLOOP\u001b[49m\u001b[38;5;241;43m.\u001b[39;49m\u001b[43mrun\u001b[49m\u001b[43m(\u001b[49m\u001b[38;5;28;43mself\u001b[39;49m\u001b[38;5;241;43m.\u001b[39;49m\u001b[43m_table\u001b[49m\u001b[38;5;241;43m.\u001b[39;49m\u001b[43m_execute_query\u001b[49m\u001b[43m(\u001b[49m\u001b[43mquery\u001b[49m\u001b[43m,\u001b[49m\u001b[43m \u001b[49m\u001b[43mbatch_size\u001b[49m\u001b[43m)\u001b[49m\u001b[43m)\u001b[49m\n",
      "File \u001b[0;32m~/code/latent-scope-modal/venv/lib/python3.13/site-packages/lancedb/background_loop.py:25\u001b[0m, in \u001b[0;36mBackgroundEventLoop.run\u001b[0;34m(self, future)\u001b[0m\n\u001b[1;32m     24\u001b[0m \u001b[38;5;28;01mdef\u001b[39;00m\u001b[38;5;250m \u001b[39m\u001b[38;5;21mrun\u001b[39m(\u001b[38;5;28mself\u001b[39m, future):\n\u001b[0;32m---> 25\u001b[0m     \u001b[38;5;28;01mreturn\u001b[39;00m \u001b[43masyncio\u001b[49m\u001b[38;5;241;43m.\u001b[39;49m\u001b[43mrun_coroutine_threadsafe\u001b[49m\u001b[43m(\u001b[49m\u001b[43mfuture\u001b[49m\u001b[43m,\u001b[49m\u001b[43m \u001b[49m\u001b[38;5;28;43mself\u001b[39;49m\u001b[38;5;241;43m.\u001b[39;49m\u001b[43mloop\u001b[49m\u001b[43m)\u001b[49m\u001b[38;5;241;43m.\u001b[39;49m\u001b[43mresult\u001b[49m\u001b[43m(\u001b[49m\u001b[43m)\u001b[49m\n",
      "File \u001b[0;32m/opt/homebrew/Cellar/python@3.13/3.13.1/Frameworks/Python.framework/Versions/3.13/lib/python3.13/concurrent/futures/_base.py:456\u001b[0m, in \u001b[0;36mFuture.result\u001b[0;34m(self, timeout)\u001b[0m\n\u001b[1;32m    454\u001b[0m     \u001b[38;5;28;01mraise\u001b[39;00m CancelledError()\n\u001b[1;32m    455\u001b[0m \u001b[38;5;28;01melif\u001b[39;00m \u001b[38;5;28mself\u001b[39m\u001b[38;5;241m.\u001b[39m_state \u001b[38;5;241m==\u001b[39m FINISHED:\n\u001b[0;32m--> 456\u001b[0m     \u001b[38;5;28;01mreturn\u001b[39;00m \u001b[38;5;28;43mself\u001b[39;49m\u001b[38;5;241;43m.\u001b[39;49m\u001b[43m__get_result\u001b[49m\u001b[43m(\u001b[49m\u001b[43m)\u001b[49m\n\u001b[1;32m    457\u001b[0m \u001b[38;5;28;01melse\u001b[39;00m:\n\u001b[1;32m    458\u001b[0m     \u001b[38;5;28;01mraise\u001b[39;00m \u001b[38;5;167;01mTimeoutError\u001b[39;00m()\n",
      "File \u001b[0;32m/opt/homebrew/Cellar/python@3.13/3.13.1/Frameworks/Python.framework/Versions/3.13/lib/python3.13/concurrent/futures/_base.py:401\u001b[0m, in \u001b[0;36mFuture.__get_result\u001b[0;34m(self)\u001b[0m\n\u001b[1;32m    399\u001b[0m \u001b[38;5;28;01mif\u001b[39;00m \u001b[38;5;28mself\u001b[39m\u001b[38;5;241m.\u001b[39m_exception:\n\u001b[1;32m    400\u001b[0m     \u001b[38;5;28;01mtry\u001b[39;00m:\n\u001b[0;32m--> 401\u001b[0m         \u001b[38;5;28;01mraise\u001b[39;00m \u001b[38;5;28mself\u001b[39m\u001b[38;5;241m.\u001b[39m_exception\n\u001b[1;32m    402\u001b[0m     \u001b[38;5;28;01mfinally\u001b[39;00m:\n\u001b[1;32m    403\u001b[0m         \u001b[38;5;66;03m# Break a reference cycle with the exception in self._exception\u001b[39;00m\n\u001b[1;32m    404\u001b[0m         \u001b[38;5;28mself\u001b[39m \u001b[38;5;241m=\u001b[39m \u001b[38;5;28;01mNone\u001b[39;00m\n",
      "File \u001b[0;32m~/code/latent-scope-modal/venv/lib/python3.13/site-packages/lancedb/table.py:2886\u001b[0m, in \u001b[0;36mAsyncTable._execute_query\u001b[0;34m(self, query, batch_size)\u001b[0m\n\u001b[1;32m   2883\u001b[0m     fts_columns \u001b[38;5;241m=\u001b[39m query\u001b[38;5;241m.\u001b[39mfull_text_query\u001b[38;5;241m.\u001b[39mget(\u001b[38;5;124m\"\u001b[39m\u001b[38;5;124mcolumns\u001b[39m\u001b[38;5;124m\"\u001b[39m, []) \u001b[38;5;129;01mor\u001b[39;00m []\n\u001b[1;32m   2884\u001b[0m     async_query \u001b[38;5;241m=\u001b[39m async_query\u001b[38;5;241m.\u001b[39mnearest_to_text(fts_query, columns\u001b[38;5;241m=\u001b[39mfts_columns)\n\u001b[0;32m-> 2886\u001b[0m table \u001b[38;5;241m=\u001b[39m \u001b[38;5;28;01mawait\u001b[39;00m async_query\u001b[38;5;241m.\u001b[39mto_arrow()\n\u001b[1;32m   2887\u001b[0m \u001b[38;5;28;01mreturn\u001b[39;00m table\u001b[38;5;241m.\u001b[39mto_reader()\n",
      "File \u001b[0;32m~/code/latent-scope-modal/venv/lib/python3.13/site-packages/lancedb/query.py:1567\u001b[0m, in \u001b[0;36mAsyncQueryBase.to_arrow\u001b[0;34m(self)\u001b[0m\n\u001b[1;32m   1559\u001b[0m \u001b[38;5;28;01masync\u001b[39;00m \u001b[38;5;28;01mdef\u001b[39;00m\u001b[38;5;250m \u001b[39m\u001b[38;5;21mto_arrow\u001b[39m(\u001b[38;5;28mself\u001b[39m) \u001b[38;5;241m-\u001b[39m\u001b[38;5;241m>\u001b[39m pa\u001b[38;5;241m.\u001b[39mTable:\n\u001b[1;32m   1560\u001b[0m \u001b[38;5;250m    \u001b[39m\u001b[38;5;124;03m\"\"\"\u001b[39;00m\n\u001b[1;32m   1561\u001b[0m \u001b[38;5;124;03m    Execute the query and collect the results into an Apache Arrow Table.\u001b[39;00m\n\u001b[1;32m   1562\u001b[0m \n\u001b[0;32m   (...)\u001b[0m\n\u001b[1;32m   1565\u001b[0m \u001b[38;5;124;03m    [to_batches][lancedb.query.AsyncQueryBase.to_batches]\u001b[39;00m\n\u001b[1;32m   1566\u001b[0m \u001b[38;5;124;03m    \"\"\"\u001b[39;00m\n\u001b[0;32m-> 1567\u001b[0m     batch_iter \u001b[38;5;241m=\u001b[39m \u001b[38;5;28;01mawait\u001b[39;00m \u001b[38;5;28mself\u001b[39m\u001b[38;5;241m.\u001b[39mto_batches()\n\u001b[1;32m   1568\u001b[0m     \u001b[38;5;28;01mreturn\u001b[39;00m pa\u001b[38;5;241m.\u001b[39mTable\u001b[38;5;241m.\u001b[39mfrom_batches(\n\u001b[1;32m   1569\u001b[0m         \u001b[38;5;28;01mawait\u001b[39;00m batch_iter\u001b[38;5;241m.\u001b[39mread_all(), schema\u001b[38;5;241m=\u001b[39mbatch_iter\u001b[38;5;241m.\u001b[39mschema\n\u001b[1;32m   1570\u001b[0m     )\n",
      "File \u001b[0;32m~/code/latent-scope-modal/venv/lib/python3.13/site-packages/lancedb/query.py:1557\u001b[0m, in \u001b[0;36mAsyncQueryBase.to_batches\u001b[0;34m(self, max_batch_length)\u001b[0m\n\u001b[1;32m   1542\u001b[0m \u001b[38;5;28;01masync\u001b[39;00m \u001b[38;5;28;01mdef\u001b[39;00m\u001b[38;5;250m \u001b[39m\u001b[38;5;21mto_batches\u001b[39m(\n\u001b[1;32m   1543\u001b[0m     \u001b[38;5;28mself\u001b[39m, \u001b[38;5;241m*\u001b[39m, max_batch_length: Optional[\u001b[38;5;28mint\u001b[39m] \u001b[38;5;241m=\u001b[39m \u001b[38;5;28;01mNone\u001b[39;00m\n\u001b[1;32m   1544\u001b[0m ) \u001b[38;5;241m-\u001b[39m\u001b[38;5;241m>\u001b[39m AsyncRecordBatchReader:\n\u001b[1;32m   1545\u001b[0m \u001b[38;5;250m    \u001b[39m\u001b[38;5;124;03m\"\"\"\u001b[39;00m\n\u001b[1;32m   1546\u001b[0m \u001b[38;5;124;03m    Execute the query and return the results as an Apache Arrow RecordBatchReader.\u001b[39;00m\n\u001b[1;32m   1547\u001b[0m \n\u001b[0;32m   (...)\u001b[0m\n\u001b[1;32m   1555\u001b[0m \u001b[38;5;124;03m        underlying data is stored in smaller chunks.\u001b[39;00m\n\u001b[1;32m   1556\u001b[0m \u001b[38;5;124;03m    \"\"\"\u001b[39;00m\n\u001b[0;32m-> 1557\u001b[0m     \u001b[38;5;28;01mreturn\u001b[39;00m AsyncRecordBatchReader(\u001b[38;5;28;01mawait\u001b[39;00m \u001b[38;5;28mself\u001b[39m\u001b[38;5;241m.\u001b[39m_inner\u001b[38;5;241m.\u001b[39mexecute(max_batch_length))\n",
      "\u001b[0;31mRuntimeError\u001b[0m: lance error: LanceError(Schema): Column name does not exist, /Users/runner/.cargo/registry/src/index.crates.io-6f17d22bba15001f/lance-core-0.22.0/src/datatypes/schema.rs:191:31"
     ]
    }
   ],
   "source": [
    "db = lancedb.connect(\"/Users/enjalot/latent-scope-demo/ls-state-legislators-2024/lancedb\")\n",
    "table = db.open_table(\"scopes-001\")\n",
    "print(table.schema)\n",
    "\n",
    "\n",
    "\n"
   ]
  },
  {
   "cell_type": "code",
   "execution_count": 81,
   "metadata": {},
   "outputs": [
    {
     "data": {
      "text/plain": [
       "[{'text': 'Retail and Sales Management   '},\n",
       " {'text': 'CEO Galvin Educational Consulting Educational consultation'},\n",
       " {'text': 'Founder Wild Awake Helps gorw socially reponsible companies '},\n",
       " {'text': 'Legistative aid Alaska state legislature State government'},\n",
       " {'text': 'Science Teacher Keet Gooshi Heen Elementary School Elementary School'},\n",
       " {'text': 'Civil and Environmental Engineer Environmental Management Inc Environmantal consulting and engineering firm'},\n",
       " {'text': ' US Army '},\n",
       " {'text': 'President Ethos Construction Services, LLC a firm focused on unique property management'},\n",
       " {'text': 'Former staff member Mayor of Wasilla Local government '},\n",
       " {'text': 'Founder Great Alaska Schools Non - partisian Coialation advocating for a quality public education for every child '}]"
      ]
     },
     "execution_count": 81,
     "metadata": {},
     "output_type": "execute_result"
    }
   ],
   "source": [
    "column_name = f'`Gender`'\n",
    "table.search().where(f\"{column_name} = \\'F\\'\").select([\"text\"]).to_list()"
   ]
  },
  {
   "cell_type": "code",
   "execution_count": 82,
   "metadata": {},
   "outputs": [
    {
     "data": {
      "text/plain": [
       "[{'Gender': 'M'},\n",
       " {'Gender': 'M'},\n",
       " {'Gender': 'F'},\n",
       " {'Gender': 'M'},\n",
       " {'Gender': 'M'},\n",
       " {'Gender': 'F'},\n",
       " {'Gender': 'M'},\n",
       " {'Gender': 'F'},\n",
       " {'Gender': 'M'},\n",
       " {'Gender': 'M'}]"
      ]
     },
     "execution_count": 82,
     "metadata": {},
     "output_type": "execute_result"
    }
   ],
   "source": [
    "table.search().select([\"Gender\"]).to_list()"
   ]
  },
  {
   "cell_type": "code",
   "execution_count": 13,
   "metadata": {},
   "outputs": [
    {
     "name": "stdout",
     "output_type": "stream",
     "text": [
      "[\n",
      "  \"M\",\n",
      "  \"M\",\n",
      "  \"F\",\n",
      "  \"M\",\n",
      "  \"M\"\n",
      "]\n"
     ]
    }
   ],
   "source": [
    "# Print the raw bytes/string representation of the values\n",
    "import json\n",
    "print(json.dumps([row['Gender'] for row in table.search().select([\"Gender\"]).limit(5).to_list()], indent=2))"
   ]
  },
  {
   "cell_type": "code",
   "execution_count": 14,
   "metadata": {},
   "outputs": [
    {
     "data": {
      "text/plain": [
       "[]"
      ]
     },
     "execution_count": 14,
     "metadata": {},
     "output_type": "execute_result"
    }
   ],
   "source": [
    "# Try with reversed quotes\n",
    "table.search().where('\\\"Gender\\\" = \"F\"').select([\"Gender\", \"text\"]).to_list()"
   ]
  },
  {
   "cell_type": "code",
   "execution_count": 15,
   "metadata": {},
   "outputs": [
    {
     "data": {
      "text/plain": [
       "[]"
      ]
     },
     "execution_count": 15,
     "metadata": {},
     "output_type": "execute_result"
    }
   ],
   "source": [
    "# Try 1: Using double quotes for both\n",
    "table.search().where('\"Gender\" = \"F\"').select([\"Gender\", \"text\"]).to_list()\n",
    "\n"
   ]
  },
  {
   "cell_type": "code",
   "execution_count": 25,
   "metadata": {},
   "outputs": [
    {
     "data": {
      "text/plain": [
       "[]"
      ]
     },
     "execution_count": 25,
     "metadata": {},
     "output_type": "execute_result"
    }
   ],
   "source": [
    "# Try 2: Using IS operator instead of =\n",
    "table.search().where(\"\\\"Gender\\\" IN ('F')\").select([\"Gender\", \"text\"]).to_list()\n"
   ]
  },
  {
   "cell_type": "code",
   "execution_count": 17,
   "metadata": {},
   "outputs": [
    {
     "data": {
      "text/plain": [
       "[{'Gender': 'M',\n",
       "  'text': 'Economics and History teacher Ketchikan High School State High School'},\n",
       " {'Gender': 'M', 'text': 'Vice president KYMG Radio Radio station'},\n",
       " {'Gender': 'F', 'text': 'Retail and Sales Management   '},\n",
       " {'Gender': 'M',\n",
       "  'text': 'Executive director Frontier Tutoring A tutoring service that helps high school students raise their test scores and grades'},\n",
       " {'Gender': 'M',\n",
       "  'text': 'Former associate attorney - Partner Law Offices of G.R. Eschbacher Corporate law firm that offers counseling and substance abuse recovery programs'}]"
      ]
     },
     "execution_count": 17,
     "metadata": {},
     "output_type": "execute_result"
    }
   ],
   "source": [
    "\n",
    "# Try 3: Let's also try a different comparison to verify the where clause works at all\n",
    "table.search().where('\"Gender\" IS NOT NULL').select([\"Gender\", \"text\"]).limit(5).to_list()"
   ]
  },
  {
   "cell_type": "code",
   "execution_count": 20,
   "metadata": {},
   "outputs": [
    {
     "data": {
      "text/plain": [
       "index: int64\n",
       "text: string\n",
       "NameLastFirstM: string\n",
       "StateAbbrev: string\n",
       "Chamberul: string\n",
       "District: string\n",
       "PartyAbbrev: string\n",
       "Gender: string\n",
       "RaceCoded: string\n",
       "HighestDegree: string\n",
       "JobTitle: string\n",
       "JobOrgName: string\n",
       "JobOrgDescr: string\n",
       "WRKCL: int64\n",
       "UNION: int64\n",
       "SAFTY: int64\n",
       "K12: int64\n",
       "BUSNS: int64\n",
       "FARM: int64\n",
       "GOVT: int64\n",
       "INSUR: int64\n",
       "RLEST: int64\n",
       "BANKS: int64\n",
       "HGHED: int64\n",
       "LAWJD: int64\n",
       "DCTR: int64\n",
       "FOSFU: int64\n",
       "GREEN: int64\n",
       "ELECT: int64\n",
       "vacant: int64\n",
       "YearBorn: double\n",
       "idno: double\n",
       "x: float\n",
       "y: float\n",
       "tile_index_32: int64\n",
       "tile_index_64: int64\n",
       "tile_index_128: int64\n",
       "cluster: int64\n",
       "raw_cluster: int64\n",
       "label: string\n",
       "deleted: bool\n",
       "vector: fixed_size_list<item: float>[768]\n",
       "  child 0, item: float\n",
       "sae_indices: list<item: int64>\n",
       "  child 0, item: int64\n",
       "sae_acts: list<item: double>\n",
       "  child 0, item: double"
      ]
     },
     "execution_count": 20,
     "metadata": {},
     "output_type": "execute_result"
    }
   ],
   "source": [
    "table.schema"
   ]
  },
  {
   "cell_type": "code",
   "execution_count": 22,
   "metadata": {},
   "outputs": [
    {
     "data": {
      "text/plain": [
       "[Index(IvfPq, columns=[\"vector\"], name=\"vector_idx\"),\n",
       " Index(BTree, columns=[\"cluster\"], name=\"cluster_idx\"),\n",
       " Index(LabelList, columns=[\"sae_indices\"], name=\"sae_indices_idx\")]"
      ]
     },
     "execution_count": 22,
     "metadata": {},
     "output_type": "execute_result"
    }
   ],
   "source": [
    "table.list_indices()\n"
   ]
  },
  {
   "cell_type": "code",
   "execution_count": 68,
   "metadata": {},
   "outputs": [
    {
     "data": {
      "text/plain": [
       "[]"
      ]
     },
     "execution_count": 68,
     "metadata": {},
     "output_type": "execute_result"
    }
   ],
   "source": [
    "# DataFusion style: double quotes for identifier (column name), single quotes for string literal\n",
    "table.search().where('\"PartyAbbrev\" = \\'D\\'').select([\"PartyAbbrev\", \"text\"]).to_list()"
   ]
  },
  {
   "cell_type": "code",
   "execution_count": 67,
   "metadata": {},
   "outputs": [
    {
     "data": {
      "text/plain": [
       "[{'PartyAbbrev': 'I',\n",
       "  'text': 'Economics and History teacher Ketchikan High School State High School'},\n",
       " {'PartyAbbrev': 'R', 'text': 'Vice president KYMG Radio Radio station'},\n",
       " {'PartyAbbrev': 'R', 'text': 'Retail and Sales Management   '},\n",
       " {'PartyAbbrev': 'Nonpartisan',\n",
       "  'text': 'Executive director Frontier Tutoring A tutoring service that helps high school students raise their test scores and grades'},\n",
       " {'PartyAbbrev': 'D',\n",
       "  'text': 'Former associate attorney - Partner Law Offices of G.R. Eschbacher Corporate law firm that offers counseling and substance abuse recovery programs'}]"
      ]
     },
     "execution_count": 67,
     "metadata": {},
     "output_type": "execute_result"
    }
   ],
   "source": [
    "# Try a basic IS NOT NULL to verify where clause works\n",
    "table.search().where('\"PartyAbbrev\" IS NOT NULL').select([\"PartyAbbrev\", \"text\"]).limit(5).to_list()"
   ]
  },
  {
   "cell_type": "code",
   "execution_count": 69,
   "metadata": {},
   "outputs": [],
   "source": [
    "# Try a basic IS NOT NULL to verify where clause works\n",
    "column_name = f'\"PartyAbbrev\"'\n",
    "asdf = table.search().where(f\"\\\"PartyAbbrev\\\" = 'D'\").select([\"PartyAbbrev\", \"text\"])\n",
    "\n"
   ]
  },
  {
   "cell_type": "code",
   "execution_count": 70,
   "metadata": {},
   "outputs": [
    {
     "data": {
      "text/plain": [
       "['__abstractmethods__',\n",
       " '__class__',\n",
       " '__delattr__',\n",
       " '__dict__',\n",
       " '__dir__',\n",
       " '__doc__',\n",
       " '__eq__',\n",
       " '__firstlineno__',\n",
       " '__format__',\n",
       " '__ge__',\n",
       " '__getattribute__',\n",
       " '__getstate__',\n",
       " '__gt__',\n",
       " '__hash__',\n",
       " '__init__',\n",
       " '__init_subclass__',\n",
       " '__le__',\n",
       " '__lt__',\n",
       " '__module__',\n",
       " '__ne__',\n",
       " '__new__',\n",
       " '__reduce__',\n",
       " '__reduce_ex__',\n",
       " '__repr__',\n",
       " '__setattr__',\n",
       " '__sizeof__',\n",
       " '__slots__',\n",
       " '__static_attributes__',\n",
       " '__str__',\n",
       " '__subclasshook__',\n",
       " '__weakref__',\n",
       " '_abc_impl',\n",
       " '_columns',\n",
       " '_ef',\n",
       " '_limit',\n",
       " '_offset',\n",
       " '_prefilter',\n",
       " '_query_to_vector',\n",
       " '_resolve_query',\n",
       " '_table',\n",
       " '_text',\n",
       " '_use_index',\n",
       " '_vector',\n",
       " '_where',\n",
       " '_with_row_id',\n",
       " 'create',\n",
       " 'explain_plan',\n",
       " 'limit',\n",
       " 'offset',\n",
       " 'rerank',\n",
       " 'select',\n",
       " 'text',\n",
       " 'to_arrow',\n",
       " 'to_batches',\n",
       " 'to_df',\n",
       " 'to_list',\n",
       " 'to_pandas',\n",
       " 'to_polars',\n",
       " 'to_pydantic',\n",
       " 'vector',\n",
       " 'where',\n",
       " 'with_row_id']"
      ]
     },
     "execution_count": 70,
     "metadata": {},
     "output_type": "execute_result"
    }
   ],
   "source": [
    "dir(asdf)"
   ]
  },
  {
   "cell_type": "code",
   "execution_count": 71,
   "metadata": {},
   "outputs": [
    {
     "data": {
      "text/plain": [
       "'\"PartyAbbrev\" = \\'D\\''"
      ]
     },
     "execution_count": 71,
     "metadata": {},
     "output_type": "execute_result"
    }
   ],
   "source": [
    "asdf._where"
   ]
  },
  {
   "cell_type": "code",
   "execution_count": 72,
   "metadata": {},
   "outputs": [
    {
     "data": {
      "text/plain": [
       "['PartyAbbrev', 'text']"
      ]
     },
     "execution_count": 72,
     "metadata": {},
     "output_type": "execute_result"
    }
   ],
   "source": [
    "asdf._columns"
   ]
  },
  {
   "cell_type": "code",
   "execution_count": 73,
   "metadata": {},
   "outputs": [
    {
     "data": {
      "text/plain": [
       "[]"
      ]
     },
     "execution_count": 73,
     "metadata": {},
     "output_type": "execute_result"
    }
   ],
   "source": [
    "asdf.to_list()"
   ]
  },
  {
   "cell_type": "code",
   "execution_count": 79,
   "metadata": {},
   "outputs": [
    {
     "data": {
      "text/plain": [
       "[{'text': 'Former associate attorney - Partner Law Offices of G.R. Eschbacher Corporate law firm that offers counseling and substance abuse recovery programs'},\n",
       " {'text': 'Founder Wild Awake Helps gorw socially reponsible companies '},\n",
       " {'text': 'Former workforce development coordinator Alaska Department of Labor and Workforce Development '},\n",
       " {'text': 'Lawyer Law office of Clifford J Groh Private practice'},\n",
       " {'text': 'Legistative aid Alaska state legislature State government'},\n",
       " {'text': 'Physician Asistant Veterans Affairs Hospital Hospital'},\n",
       " {'text': 'Civil and Environmental Engineer Environmental Management Inc Environmantal consulting and engineering firm'},\n",
       " {'text': 'Founder Great Alaska Schools Non - partisian Coialation advocating for a quality public education for every child '},\n",
       " {'text': 'Teacher  Denali Elementary Elemntary school'},\n",
       " {'text': 'Chief of staff Adam Wool Alaska State Legislature'}]"
      ]
     },
     "execution_count": 79,
     "metadata": {},
     "output_type": "execute_result"
    }
   ],
   "source": [
    "column_name = f'`PartyAbbrev`'\n",
    "q = table.search().where(f'{column_name} LIKE \\'D%\\'').select([\"text\"]).to_list()\n",
    "q\n"
   ]
  },
  {
   "cell_type": "code",
   "execution_count": 80,
   "metadata": {},
   "outputs": [
    {
     "data": {
      "text/plain": [
       "\"`PartyAbbrev` = 'D'\""
      ]
     },
     "execution_count": 80,
     "metadata": {},
     "output_type": "execute_result"
    }
   ],
   "source": [
    "table.search().where(f\"{column_name} = 'D'\")._where"
   ]
  },
  {
   "cell_type": "code",
   "execution_count": null,
   "metadata": {},
   "outputs": [],
   "source": []
  }
 ],
 "metadata": {
  "kernelspec": {
   "display_name": "venv",
   "language": "python",
   "name": "python3"
  },
  "language_info": {
   "codemirror_mode": {
    "name": "ipython",
    "version": 3
   },
   "file_extension": ".py",
   "mimetype": "text/x-python",
   "name": "python",
   "nbconvert_exporter": "python",
   "pygments_lexer": "ipython3",
   "version": "3.13.1"
  }
 },
 "nbformat": 4,
 "nbformat_minor": 2
}
